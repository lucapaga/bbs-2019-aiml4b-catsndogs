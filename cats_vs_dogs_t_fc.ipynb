{
 "cells": [
  {
   "cell_type": "markdown",
   "metadata": {},
   "source": [
    "# Cats & Dogs\n",
    "\n",
    "Discriminate between Cats and Dogs in images\n",
    "\n",
    "#### Imports & Configurations"
   ]
  },
  {
   "cell_type": "code",
   "execution_count": 1,
   "metadata": {
    "_cell_guid": "b1076dfc-b9ad-4769-8c92-a6c4dae69d19",
    "_uuid": "8f2839f25d086af736a60e9eeb907d3b93b6e0e5"
   },
   "outputs": [
    {
     "name": "stderr",
     "output_type": "stream",
     "text": [
      "Using TensorFlow backend.\n",
      "/usr/local/lib/python3.5/dist-packages/tensorflow/python/framework/dtypes.py:516: FutureWarning: Passing (type, 1) or '1type' as a synonym of type is deprecated; in a future version of numpy, it will be understood as (type, (1,)) / '(1,)type'.\n",
      "  _np_qint8 = np.dtype([(\"qint8\", np.int8, 1)])\n",
      "/usr/local/lib/python3.5/dist-packages/tensorflow/python/framework/dtypes.py:517: FutureWarning: Passing (type, 1) or '1type' as a synonym of type is deprecated; in a future version of numpy, it will be understood as (type, (1,)) / '(1,)type'.\n",
      "  _np_quint8 = np.dtype([(\"quint8\", np.uint8, 1)])\n",
      "/usr/local/lib/python3.5/dist-packages/tensorflow/python/framework/dtypes.py:518: FutureWarning: Passing (type, 1) or '1type' as a synonym of type is deprecated; in a future version of numpy, it will be understood as (type, (1,)) / '(1,)type'.\n",
      "  _np_qint16 = np.dtype([(\"qint16\", np.int16, 1)])\n",
      "/usr/local/lib/python3.5/dist-packages/tensorflow/python/framework/dtypes.py:519: FutureWarning: Passing (type, 1) or '1type' as a synonym of type is deprecated; in a future version of numpy, it will be understood as (type, (1,)) / '(1,)type'.\n",
      "  _np_quint16 = np.dtype([(\"quint16\", np.uint16, 1)])\n",
      "/usr/local/lib/python3.5/dist-packages/tensorflow/python/framework/dtypes.py:520: FutureWarning: Passing (type, 1) or '1type' as a synonym of type is deprecated; in a future version of numpy, it will be understood as (type, (1,)) / '(1,)type'.\n",
      "  _np_qint32 = np.dtype([(\"qint32\", np.int32, 1)])\n",
      "/usr/local/lib/python3.5/dist-packages/tensorflow/python/framework/dtypes.py:525: FutureWarning: Passing (type, 1) or '1type' as a synonym of type is deprecated; in a future version of numpy, it will be understood as (type, (1,)) / '(1,)type'.\n",
      "  np_resource = np.dtype([(\"resource\", np.ubyte, 1)])\n",
      "/usr/local/lib/python3.5/dist-packages/tensorboard/compat/tensorflow_stub/dtypes.py:541: FutureWarning: Passing (type, 1) or '1type' as a synonym of type is deprecated; in a future version of numpy, it will be understood as (type, (1,)) / '(1,)type'.\n",
      "  _np_qint8 = np.dtype([(\"qint8\", np.int8, 1)])\n",
      "/usr/local/lib/python3.5/dist-packages/tensorboard/compat/tensorflow_stub/dtypes.py:542: FutureWarning: Passing (type, 1) or '1type' as a synonym of type is deprecated; in a future version of numpy, it will be understood as (type, (1,)) / '(1,)type'.\n",
      "  _np_quint8 = np.dtype([(\"quint8\", np.uint8, 1)])\n",
      "/usr/local/lib/python3.5/dist-packages/tensorboard/compat/tensorflow_stub/dtypes.py:543: FutureWarning: Passing (type, 1) or '1type' as a synonym of type is deprecated; in a future version of numpy, it will be understood as (type, (1,)) / '(1,)type'.\n",
      "  _np_qint16 = np.dtype([(\"qint16\", np.int16, 1)])\n",
      "/usr/local/lib/python3.5/dist-packages/tensorboard/compat/tensorflow_stub/dtypes.py:544: FutureWarning: Passing (type, 1) or '1type' as a synonym of type is deprecated; in a future version of numpy, it will be understood as (type, (1,)) / '(1,)type'.\n",
      "  _np_quint16 = np.dtype([(\"quint16\", np.uint16, 1)])\n",
      "/usr/local/lib/python3.5/dist-packages/tensorboard/compat/tensorflow_stub/dtypes.py:545: FutureWarning: Passing (type, 1) or '1type' as a synonym of type is deprecated; in a future version of numpy, it will be understood as (type, (1,)) / '(1,)type'.\n",
      "  _np_qint32 = np.dtype([(\"qint32\", np.int32, 1)])\n",
      "/usr/local/lib/python3.5/dist-packages/tensorboard/compat/tensorflow_stub/dtypes.py:550: FutureWarning: Passing (type, 1) or '1type' as a synonym of type is deprecated; in a future version of numpy, it will be understood as (type, (1,)) / '(1,)type'.\n",
      "  np_resource = np.dtype([(\"resource\", np.ubyte, 1)])\n"
     ]
    }
   ],
   "source": [
    "# This Python 3 environment comes with many helpful analytics libraries installed\n",
    "# It is defined by the kaggle/python docker image: https://github.com/kaggle/docker-python\n",
    "# For example, here's several helpful packages to load in \n",
    "\n",
    "import numpy as np # linear algebra\n",
    "import pandas as pd # data processing, CSV file I/O (e.g. pd.read_csv)\n",
    "\n",
    "# Input data files are available in the \"../input/\" directory.\n",
    "# For example, running this (by clicking run or pressing Shift+Enter) will list the files in the input directory\n",
    "\n",
    "import os,shutil\n",
    "#print(os.listdir(\"../input\"))\n",
    "\n",
    "# Any results you write to the current directory are saved as output.\n",
    "\n",
    "from keras import layers\n",
    "from keras import models\n",
    "import tensorflow as tf\n",
    "\n",
    "from keras import optimizers\n",
    "from keras.optimizers import SGD\n",
    "from tensorflow.keras.optimizers import RMSprop\n",
    "from sklearn.preprocessing import LabelEncoder\n",
    "\n",
    "from sklearn.model_selection import train_test_split\n",
    "from keras.preprocessing.image import ImageDataGenerator\n",
    "import matplotlib.pyplot as plt\n",
    "\n",
    "tf.debugging.set_log_device_placement(True)"
   ]
  },
  {
   "cell_type": "code",
   "execution_count": 2,
   "metadata": {},
   "outputs": [
    {
     "name": "stdout",
     "output_type": "stream",
     "text": [
      "['test1', 'sampleSubmission.csv', 'train']\n"
     ]
    }
   ],
   "source": [
    "base_dir = \"./data\"\n",
    "train_dir = \"./data/train\"\n",
    "test_dir = \"./data/test1\"\n",
    "\n",
    "print(os.listdir(base_dir))"
   ]
  },
  {
   "cell_type": "markdown",
   "metadata": {},
   "source": [
    "## Preparing TRAIN dataset\n",
    "\n",
    "Images in `./data/train` folder has a \"class-aware\" naming convention:\n",
    "\n",
    "`[dog|cat].<image_number>.jpg`\n",
    "\n",
    "Let's create the pandas DataFrame accordingly"
   ]
  },
  {
   "cell_type": "code",
   "execution_count": 3,
   "metadata": {},
   "outputs": [],
   "source": [
    "train_imagenames = os.listdir(train_dir)\n",
    "image_name = []\n",
    "image_paths = []\n",
    "\n",
    "for imagename in train_imagenames:\n",
    "    image = imagename.split('.')[0]\n",
    "    image_path = os.path.join(train_dir, imagename)\n",
    "    image_paths.append(image_path)\n",
    "    image_name.append(image)\n",
    "    \n",
    "image_df = pd.DataFrame()\n",
    "\n",
    "image_df[\"image_path\"] = image_paths\n",
    "image_df[\"image_name\"] = image_name"
   ]
  },
  {
   "cell_type": "code",
   "execution_count": 4,
   "metadata": {},
   "outputs": [
    {
     "data": {
      "text/html": [
       "<div>\n",
       "<style scoped>\n",
       "    .dataframe tbody tr th:only-of-type {\n",
       "        vertical-align: middle;\n",
       "    }\n",
       "\n",
       "    .dataframe tbody tr th {\n",
       "        vertical-align: top;\n",
       "    }\n",
       "\n",
       "    .dataframe thead th {\n",
       "        text-align: right;\n",
       "    }\n",
       "</style>\n",
       "<table border=\"1\" class=\"dataframe\">\n",
       "  <thead>\n",
       "    <tr style=\"text-align: right;\">\n",
       "      <th></th>\n",
       "      <th>image_path</th>\n",
       "      <th>image_name</th>\n",
       "    </tr>\n",
       "  </thead>\n",
       "  <tbody>\n",
       "    <tr>\n",
       "      <td>0</td>\n",
       "      <td>./data/train/cat.1974.jpg</td>\n",
       "      <td>cat</td>\n",
       "    </tr>\n",
       "    <tr>\n",
       "      <td>1</td>\n",
       "      <td>./data/train/dog.8461.jpg</td>\n",
       "      <td>dog</td>\n",
       "    </tr>\n",
       "    <tr>\n",
       "      <td>2</td>\n",
       "      <td>./data/train/cat.10441.jpg</td>\n",
       "      <td>cat</td>\n",
       "    </tr>\n",
       "    <tr>\n",
       "      <td>3</td>\n",
       "      <td>./data/train/cat.3251.jpg</td>\n",
       "      <td>cat</td>\n",
       "    </tr>\n",
       "    <tr>\n",
       "      <td>4</td>\n",
       "      <td>./data/train/dog.1807.jpg</td>\n",
       "      <td>dog</td>\n",
       "    </tr>\n",
       "  </tbody>\n",
       "</table>\n",
       "</div>"
      ],
      "text/plain": [
       "                   image_path image_name\n",
       "0   ./data/train/cat.1974.jpg        cat\n",
       "1   ./data/train/dog.8461.jpg        dog\n",
       "2  ./data/train/cat.10441.jpg        cat\n",
       "3   ./data/train/cat.3251.jpg        cat\n",
       "4   ./data/train/dog.1807.jpg        dog"
      ]
     },
     "execution_count": 4,
     "metadata": {},
     "output_type": "execute_result"
    }
   ],
   "source": [
    "image_df.head()"
   ]
  },
  {
   "cell_type": "code",
   "execution_count": 5,
   "metadata": {},
   "outputs": [
    {
     "data": {
      "text/plain": [
       "dog    12500\n",
       "cat    12500\n",
       "Name: image_name, dtype: int64"
      ]
     },
     "execution_count": 5,
     "metadata": {},
     "output_type": "execute_result"
    }
   ],
   "source": [
    "image_df[\"image_name\"].value_counts()"
   ]
  },
  {
   "cell_type": "markdown",
   "metadata": {},
   "source": [
    "### Checking GPUs"
   ]
  },
  {
   "cell_type": "code",
   "execution_count": 6,
   "metadata": {},
   "outputs": [],
   "source": [
    "tf.debugging.set_log_device_placement(True)"
   ]
  },
  {
   "cell_type": "code",
   "execution_count": 7,
   "metadata": {},
   "outputs": [
    {
     "data": {
      "text/plain": [
       "[PhysicalDevice(name='/physical_device:GPU:0', device_type='GPU')]"
      ]
     },
     "execution_count": 7,
     "metadata": {},
     "output_type": "execute_result"
    }
   ],
   "source": [
    "gpus = tf.config.experimental.list_physical_devices('GPU')\n",
    "gpus"
   ]
  },
  {
   "cell_type": "markdown",
   "metadata": {},
   "source": [
    "## Neural Net Architecture\n",
    "\n",
    "### Basic FullyConnected"
   ]
  },
  {
   "cell_type": "code",
   "execution_count": 8,
   "metadata": {},
   "outputs": [
    {
     "name": "stdout",
     "output_type": "stream",
     "text": [
      "WARNING:tensorflow:From /usr/local/lib/python3.5/dist-packages/tensorflow/python/ops/init_ops.py:1251: calling VarianceScaling.__init__ (from tensorflow.python.ops.init_ops) with dtype is deprecated and will be removed in a future version.\n",
      "Instructions for updating:\n",
      "Call initializer instance with the dtype argument instead of passing it to the constructor\n",
      "Model: \"sequential\"\n",
      "_________________________________________________________________\n",
      "Layer (type)                 Output Shape              Param #   \n",
      "=================================================================\n",
      "flatten (Flatten)            (None, 67500)             0         \n",
      "_________________________________________________________________\n",
      "dense (Dense)                (None, 1024)              69121024  \n",
      "_________________________________________________________________\n",
      "dense_1 (Dense)              (None, 128)               131200    \n",
      "_________________________________________________________________\n",
      "dense_2 (Dense)              (None, 128)               16512     \n",
      "_________________________________________________________________\n",
      "dense_3 (Dense)              (None, 1)                 129       \n",
      "=================================================================\n",
      "Total params: 69,268,865\n",
      "Trainable params: 69,268,865\n",
      "Non-trainable params: 0\n",
      "_________________________________________________________________\n",
      "WARNING:tensorflow:From /usr/local/lib/python3.5/dist-packages/tensorflow/python/ops/nn_impl.py:180: add_dispatch_support.<locals>.wrapper (from tensorflow.python.ops.array_ops) is deprecated and will be removed in a future version.\n",
      "Instructions for updating:\n",
      "Use tf.where in 2.0, which has the same broadcast rule as np.where\n"
     ]
    }
   ],
   "source": [
    "with tf.device('GPU:0'):\n",
    "    model = tf.keras.models.Sequential([\n",
    "        tf.keras.layers.Flatten(input_shape=(150, 150, 3)),\n",
    "        tf.keras.layers.Dense(1024, activation=tf.nn.relu),\n",
    "        tf.keras.layers.Dense(128, activation=tf.nn.relu),\n",
    "        tf.keras.layers.Dense(128, activation=tf.nn.relu),\n",
    "        tf.keras.layers.Dense(1, activation=tf.nn.sigmoid)\n",
    "    ])\n",
    "    model.summary()\n",
    "    \n",
    "    model.compile(loss = \"binary_crossentropy\", optimizer = RMSprop(lr=1e-4), metrics = [\"acc\"])"
   ]
  },
  {
   "cell_type": "markdown",
   "metadata": {},
   "source": [
    "### Train/Validation Split\n",
    "\n",
    " - 80% Train\n",
    " - 20% Validation"
   ]
  },
  {
   "cell_type": "code",
   "execution_count": 9,
   "metadata": {},
   "outputs": [],
   "source": [
    "train, validation = train_test_split(image_df,test_size=0.2, random_state=42) "
   ]
  },
  {
   "cell_type": "code",
   "execution_count": 10,
   "metadata": {},
   "outputs": [
    {
     "name": "stdout",
     "output_type": "stream",
     "text": [
      "Found 20000 validated image filenames belonging to 2 classes.\n",
      "Found 5000 validated image filenames belonging to 2 classes.\n"
     ]
    }
   ],
   "source": [
    "train_datagen = ImageDataGenerator(rescale = 1./255, rotation_range = 40, width_shift_range = 0.2,\n",
    "                                   height_shift_range = 0.2, shear_range = 0.2, zoom_range = 0.2, horizontal_flip = True)\n",
    "validation_datagen = ImageDataGenerator(rescale = 1./255)\n",
    "\n",
    "train_generator = train_datagen.flow_from_dataframe(train, x_col = \"image_path\", y_col = \"image_name\", target_size = (150, 150), batch_size = 128, class_mode = \"binary\")\n",
    "validation_generator = validation_datagen.flow_from_dataframe(validation, x_col = \"image_path\", y_col = \"image_name\", target_size = (150, 150), batch_size = 128, class_mode = \"binary\")\n"
   ]
  },
  {
   "cell_type": "markdown",
   "metadata": {},
   "source": [
    "## Training\n",
    "\n",
    " -  40 Epochs\n",
    " -  80 Steps per Epoch\n",
    " - 200 Validation Steps"
   ]
  },
  {
   "cell_type": "code",
   "execution_count": 11,
   "metadata": {},
   "outputs": [
    {
     "name": "stdout",
     "output_type": "stream",
     "text": [
      "Epoch 1/40\n",
      "80/80 [==============================] - 126s 2s/step - loss: 1.4949 - acc: 0.5043 - val_loss: 1.1608 - val_acc: 0.4858\n",
      "Epoch 2/40\n",
      "80/80 [==============================] - 120s 1s/step - loss: 0.9525 - acc: 0.5042 - val_loss: 0.8022 - val_acc: 0.5142\n",
      "Epoch 3/40\n",
      "80/80 [==============================] - 120s 1s/step - loss: 0.8778 - acc: 0.5044 - val_loss: 0.8799 - val_acc: 0.4858\n",
      "Epoch 4/40\n",
      "80/80 [==============================] - 119s 1s/step - loss: 0.7952 - acc: 0.5151 - val_loss: 0.6839 - val_acc: 0.5446\n",
      "Epoch 5/40\n",
      "80/80 [==============================] - 120s 2s/step - loss: 0.7508 - acc: 0.5297 - val_loss: 0.6800 - val_acc: 0.5808\n",
      "Epoch 6/40\n",
      "80/80 [==============================] - 121s 2s/step - loss: 0.7326 - acc: 0.5241 - val_loss: 0.6818 - val_acc: 0.5540\n",
      "Epoch 7/40\n",
      "80/80 [==============================] - 121s 2s/step - loss: 0.7086 - acc: 0.5334 - val_loss: 0.6867 - val_acc: 0.5484\n",
      "Epoch 8/40\n",
      "80/80 [==============================] - 120s 2s/step - loss: 0.6971 - acc: 0.5542 - val_loss: 0.6909 - val_acc: 0.5372\n",
      "Epoch 9/40\n",
      "80/80 [==============================] - 119s 1s/step - loss: 0.6943 - acc: 0.5465 - val_loss: 0.6872 - val_acc: 0.5436\n",
      "Epoch 10/40\n",
      "80/80 [==============================] - 120s 1s/step - loss: 0.6935 - acc: 0.5530 - val_loss: 0.6686 - val_acc: 0.5950\n",
      "Epoch 11/40\n",
      "80/80 [==============================] - 119s 1s/step - loss: 0.6863 - acc: 0.5613 - val_loss: 0.6752 - val_acc: 0.5858\n",
      "Epoch 12/40\n",
      "80/80 [==============================] - 119s 1s/step - loss: 0.6904 - acc: 0.5524 - val_loss: 0.6861 - val_acc: 0.5598\n",
      "Epoch 13/40\n",
      "80/80 [==============================] - 118s 1s/step - loss: 0.6888 - acc: 0.5731 - val_loss: 0.6620 - val_acc: 0.6074\n",
      "Epoch 14/40\n",
      "80/80 [==============================] - 119s 1s/step - loss: 0.6834 - acc: 0.5663 - val_loss: 0.6825 - val_acc: 0.5580\n",
      "Epoch 15/40\n",
      "80/80 [==============================] - 119s 1s/step - loss: 0.6823 - acc: 0.5728 - val_loss: 0.6578 - val_acc: 0.6064\n",
      "Epoch 16/40\n",
      "80/80 [==============================] - 119s 1s/step - loss: 0.6789 - acc: 0.5707 - val_loss: 0.6687 - val_acc: 0.5822\n",
      "Epoch 17/40\n",
      "80/80 [==============================] - 120s 1s/step - loss: 0.6783 - acc: 0.5784 - val_loss: 0.6606 - val_acc: 0.5958\n",
      "Epoch 18/40\n",
      "80/80 [==============================] - 119s 1s/step - loss: 0.6749 - acc: 0.5789 - val_loss: 0.6722 - val_acc: 0.5718\n",
      "Epoch 19/40\n",
      "80/80 [==============================] - 120s 1s/step - loss: 0.6736 - acc: 0.5817 - val_loss: 0.6571 - val_acc: 0.6028\n",
      "Epoch 20/40\n",
      "80/80 [==============================] - 119s 1s/step - loss: 0.6781 - acc: 0.5807 - val_loss: 0.6663 - val_acc: 0.5900\n",
      "Epoch 21/40\n",
      "80/80 [==============================] - 118s 1s/step - loss: 0.6732 - acc: 0.5806 - val_loss: 0.6615 - val_acc: 0.5986\n",
      "Epoch 22/40\n",
      "80/80 [==============================] - 118s 1s/step - loss: 0.6720 - acc: 0.5850 - val_loss: 0.6518 - val_acc: 0.6158\n",
      "Epoch 23/40\n",
      "80/80 [==============================] - 118s 1s/step - loss: 0.6741 - acc: 0.5892 - val_loss: 0.6821 - val_acc: 0.5690\n",
      "Epoch 24/40\n",
      "80/80 [==============================] - 118s 1s/step - loss: 0.6715 - acc: 0.5781 - val_loss: 0.6543 - val_acc: 0.6058\n",
      "Epoch 25/40\n",
      "80/80 [==============================] - 117s 1s/step - loss: 0.6713 - acc: 0.5899 - val_loss: 0.6573 - val_acc: 0.6064\n",
      "Epoch 26/40\n",
      "80/80 [==============================] - 118s 1s/step - loss: 0.6690 - acc: 0.5891 - val_loss: 0.6503 - val_acc: 0.6192\n",
      "Epoch 27/40\n",
      "80/80 [==============================] - 117s 1s/step - loss: 0.6688 - acc: 0.5900 - val_loss: 0.6511 - val_acc: 0.6040\n",
      "Epoch 28/40\n",
      "80/80 [==============================] - 118s 1s/step - loss: 0.6713 - acc: 0.5813 - val_loss: 0.6548 - val_acc: 0.6092\n",
      "Epoch 29/40\n",
      "80/80 [==============================] - 118s 1s/step - loss: 0.6675 - acc: 0.5906 - val_loss: 0.6478 - val_acc: 0.6136\n",
      "Epoch 30/40\n",
      "80/80 [==============================] - 118s 1s/step - loss: 0.6686 - acc: 0.5848 - val_loss: 0.6487 - val_acc: 0.6160\n",
      "Epoch 31/40\n",
      "80/80 [==============================] - 117s 1s/step - loss: 0.6668 - acc: 0.5877 - val_loss: 0.6624 - val_acc: 0.5900\n",
      "Epoch 32/40\n",
      "80/80 [==============================] - 118s 1s/step - loss: 0.6656 - acc: 0.6000 - val_loss: 0.6529 - val_acc: 0.6106\n",
      "Epoch 33/40\n",
      "80/80 [==============================] - 118s 1s/step - loss: 0.6596 - acc: 0.5914 - val_loss: 0.6498 - val_acc: 0.6116\n",
      "Epoch 34/40\n",
      "80/80 [==============================] - 118s 1s/step - loss: 0.6659 - acc: 0.5881 - val_loss: 0.6452 - val_acc: 0.6270\n",
      "Epoch 35/40\n",
      "80/80 [==============================] - 119s 1s/step - loss: 0.6653 - acc: 0.5930 - val_loss: 0.6492 - val_acc: 0.6056\n",
      "Epoch 36/40\n",
      "80/80 [==============================] - 118s 1s/step - loss: 0.6633 - acc: 0.5899 - val_loss: 0.6799 - val_acc: 0.5762\n",
      "Epoch 37/40\n",
      "80/80 [==============================] - 118s 1s/step - loss: 0.6637 - acc: 0.5926 - val_loss: 0.6538 - val_acc: 0.6112\n",
      "Epoch 38/40\n",
      "80/80 [==============================] - 118s 1s/step - loss: 0.6666 - acc: 0.5894 - val_loss: 0.6452 - val_acc: 0.6198\n",
      "Epoch 39/40\n",
      "80/80 [==============================] - 118s 1s/step - loss: 0.6654 - acc: 0.5948 - val_loss: 0.6524 - val_acc: 0.6044\n",
      "Epoch 40/40\n",
      "80/80 [==============================] - 118s 1s/step - loss: 0.6621 - acc: 0.5943 - val_loss: 0.6690 - val_acc: 0.5888\n"
     ]
    }
   ],
   "source": [
    "history = model.fit_generator(train_generator,\n",
    "                             steps_per_epoch = 80, epochs = 40, validation_data = validation_generator, validation_steps = 200)"
   ]
  },
  {
   "cell_type": "markdown",
   "metadata": {},
   "source": [
    "### Metrics\n",
    "\n",
    " - Loss & Accuracy ...\n",
    " - ... on Training set ...\n",
    " - ... and on Validation set (to catch eventual overfitting)"
   ]
  },
  {
   "cell_type": "code",
   "execution_count": 12,
   "metadata": {},
   "outputs": [
    {
     "data": {
      "text/plain": [
       "<Figure size 432x288 with 0 Axes>"
      ]
     },
     "execution_count": 12,
     "metadata": {},
     "output_type": "execute_result"
    },
    {
     "data": {
      "image/png": "[encoded data removed]",
      "text/plain": [
       "<Figure size 432x288 with 1 Axes>"
      ]
     },
     "metadata": {
      "needs_background": "light"
     },
     "output_type": "display_data"
    },
    {
     "data": {
      "text/plain": [
       "<Figure size 432x288 with 0 Axes>"
      ]
     },
     "metadata": {},
     "output_type": "display_data"
    }
   ],
   "source": [
    "acc = history.history[\"acc\"]\n",
    "val_acc = history.history[\"val_acc\"]\n",
    "loss = history.history[\"loss\"]\n",
    "val_loss = history.history[\"val_loss\"]\n",
    "\n",
    "epochs = range(1, len(acc) + 1)\n",
    "\n",
    "plt.plot(epochs, acc, \"bo\", label = \"Training acc\")\n",
    "plt.plot(epochs, val_acc, \"b\", label = \"Validation acc\")\n",
    "plt.title(\"Training and Validation accuracy\")\n",
    "plt.legend()\n",
    "plt.figure()"
   ]
  },
  {
   "cell_type": "code",
   "execution_count": 13,
   "metadata": {},
   "outputs": [
    {
     "data": {
      "image/png": "[encoded data removed]",
      "text/plain": [
       "<Figure size 432x288 with 1 Axes>"
      ]
     },
     "metadata": {
      "needs_background": "light"
     },
     "output_type": "display_data"
    }
   ],
   "source": [
    "plt.plot(epochs, loss, \"bo\", label = \"Training loss\")\n",
    "plt.plot(epochs, val_loss, \"b\", label = \"Validation loss\")\n",
    "plt.title(\"Training and Validation loss\")\n",
    "plt.legend()\n",
    "plt.show()"
   ]
  }
 ],
 "metadata": {
  "kernelspec": {
   "display_name": "Python 3",
   "language": "python",
   "name": "python3"
  },
  "language_info": {
   "codemirror_mode": {
    "name": "ipython",
    "version": 3
   },
   "file_extension": ".py",
   "mimetype": "text/x-python",
   "name": "python",
   "nbconvert_exporter": "python",
   "pygments_lexer": "ipython3",
   "version": "3.5.3"
  }
 },
 "nbformat": 4,
 "nbformat_minor": 4
}

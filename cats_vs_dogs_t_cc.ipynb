{
 "cells": [
  {
   "cell_type": "markdown",
   "metadata": {},
   "source": [
    "# Cats & Dogs\n",
    "\n",
    "Discriminate between Cats and Dogs in images\n",
    "\n",
    "#### Imports & Configurations"
   ]
  },
  {
   "cell_type": "code",
   "execution_count": 1,
   "metadata": {
    "_cell_guid": "b1076dfc-b9ad-4769-8c92-a6c4dae69d19",
    "_uuid": "8f2839f25d086af736a60e9eeb907d3b93b6e0e5"
   },
   "outputs": [
    {
     "name": "stderr",
     "output_type": "stream",
     "text": [
      "Using TensorFlow backend.\n",
      "/usr/local/lib/python3.5/dist-packages/tensorflow/python/framework/dtypes.py:516: FutureWarning: Passing (type, 1) or '1type' as a synonym of type is deprecated; in a future version of numpy, it will be understood as (type, (1,)) / '(1,)type'.\n",
      "  _np_qint8 = np.dtype([(\"qint8\", np.int8, 1)])\n",
      "/usr/local/lib/python3.5/dist-packages/tensorflow/python/framework/dtypes.py:517: FutureWarning: Passing (type, 1) or '1type' as a synonym of type is deprecated; in a future version of numpy, it will be understood as (type, (1,)) / '(1,)type'.\n",
      "  _np_quint8 = np.dtype([(\"quint8\", np.uint8, 1)])\n",
      "/usr/local/lib/python3.5/dist-packages/tensorflow/python/framework/dtypes.py:518: FutureWarning: Passing (type, 1) or '1type' as a synonym of type is deprecated; in a future version of numpy, it will be understood as (type, (1,)) / '(1,)type'.\n",
      "  _np_qint16 = np.dtype([(\"qint16\", np.int16, 1)])\n",
      "/usr/local/lib/python3.5/dist-packages/tensorflow/python/framework/dtypes.py:519: FutureWarning: Passing (type, 1) or '1type' as a synonym of type is deprecated; in a future version of numpy, it will be understood as (type, (1,)) / '(1,)type'.\n",
      "  _np_quint16 = np.dtype([(\"quint16\", np.uint16, 1)])\n",
      "/usr/local/lib/python3.5/dist-packages/tensorflow/python/framework/dtypes.py:520: FutureWarning: Passing (type, 1) or '1type' as a synonym of type is deprecated; in a future version of numpy, it will be understood as (type, (1,)) / '(1,)type'.\n",
      "  _np_qint32 = np.dtype([(\"qint32\", np.int32, 1)])\n",
      "/usr/local/lib/python3.5/dist-packages/tensorflow/python/framework/dtypes.py:525: FutureWarning: Passing (type, 1) or '1type' as a synonym of type is deprecated; in a future version of numpy, it will be understood as (type, (1,)) / '(1,)type'.\n",
      "  np_resource = np.dtype([(\"resource\", np.ubyte, 1)])\n",
      "/usr/local/lib/python3.5/dist-packages/tensorboard/compat/tensorflow_stub/dtypes.py:541: FutureWarning: Passing (type, 1) or '1type' as a synonym of type is deprecated; in a future version of numpy, it will be understood as (type, (1,)) / '(1,)type'.\n",
      "  _np_qint8 = np.dtype([(\"qint8\", np.int8, 1)])\n",
      "/usr/local/lib/python3.5/dist-packages/tensorboard/compat/tensorflow_stub/dtypes.py:542: FutureWarning: Passing (type, 1) or '1type' as a synonym of type is deprecated; in a future version of numpy, it will be understood as (type, (1,)) / '(1,)type'.\n",
      "  _np_quint8 = np.dtype([(\"quint8\", np.uint8, 1)])\n",
      "/usr/local/lib/python3.5/dist-packages/tensorboard/compat/tensorflow_stub/dtypes.py:543: FutureWarning: Passing (type, 1) or '1type' as a synonym of type is deprecated; in a future version of numpy, it will be understood as (type, (1,)) / '(1,)type'.\n",
      "  _np_qint16 = np.dtype([(\"qint16\", np.int16, 1)])\n",
      "/usr/local/lib/python3.5/dist-packages/tensorboard/compat/tensorflow_stub/dtypes.py:544: FutureWarning: Passing (type, 1) or '1type' as a synonym of type is deprecated; in a future version of numpy, it will be understood as (type, (1,)) / '(1,)type'.\n",
      "  _np_quint16 = np.dtype([(\"quint16\", np.uint16, 1)])\n",
      "/usr/local/lib/python3.5/dist-packages/tensorboard/compat/tensorflow_stub/dtypes.py:545: FutureWarning: Passing (type, 1) or '1type' as a synonym of type is deprecated; in a future version of numpy, it will be understood as (type, (1,)) / '(1,)type'.\n",
      "  _np_qint32 = np.dtype([(\"qint32\", np.int32, 1)])\n",
      "/usr/local/lib/python3.5/dist-packages/tensorboard/compat/tensorflow_stub/dtypes.py:550: FutureWarning: Passing (type, 1) or '1type' as a synonym of type is deprecated; in a future version of numpy, it will be understood as (type, (1,)) / '(1,)type'.\n",
      "  np_resource = np.dtype([(\"resource\", np.ubyte, 1)])\n"
     ]
    }
   ],
   "source": [
    "# This Python 3 environment comes with many helpful analytics libraries installed\n",
    "# It is defined by the kaggle/python docker image: https://github.com/kaggle/docker-python\n",
    "# For example, here's several helpful packages to load in \n",
    "\n",
    "import numpy as np # linear algebra\n",
    "import pandas as pd # data processing, CSV file I/O (e.g. pd.read_csv)\n",
    "\n",
    "# Input data files are available in the \"../input/\" directory.\n",
    "# For example, running this (by clicking run or pressing Shift+Enter) will list the files in the input directory\n",
    "\n",
    "import os,shutil\n",
    "#print(os.listdir(\"../input\"))\n",
    "\n",
    "# Any results you write to the current directory are saved as output.\n",
    "\n",
    "from keras import layers\n",
    "from keras import models\n",
    "import tensorflow as tf\n",
    "\n",
    "from keras import optimizers\n",
    "from keras.optimizers import SGD\n",
    "from tensorflow.keras.optimizers import RMSprop\n",
    "from sklearn.preprocessing import LabelEncoder\n",
    "\n",
    "from sklearn.model_selection import train_test_split\n",
    "from keras.preprocessing.image import ImageDataGenerator\n",
    "import matplotlib.pyplot as plt\n",
    "\n",
    "tf.debugging.set_log_device_placement(True)"
   ]
  },
  {
   "cell_type": "code",
   "execution_count": 2,
   "metadata": {},
   "outputs": [
    {
     "name": "stdout",
     "output_type": "stream",
     "text": [
      "['sampleSubmission.csv', 'train']\n"
     ]
    }
   ],
   "source": [
    "base_dir = \"./data\"\n",
    "train_dir = \"./data/train\"\n",
    "test_dir = \"./data/test1\"\n",
    "\n",
    "print(os.listdir(base_dir))"
   ]
  },
  {
   "cell_type": "markdown",
   "metadata": {},
   "source": [
    "## Preparing TRAIN dataset\n",
    "\n",
    "Images in `./data/train` folder has a \"class-aware\" naming convention:\n",
    "\n",
    "`[dog|cat].<image_number>.jpg`\n",
    "\n",
    "Let's create the pandas DataFrame accordingly"
   ]
  },
  {
   "cell_type": "code",
   "execution_count": 3,
   "metadata": {},
   "outputs": [],
   "source": [
    "train_imagenames = os.listdir(train_dir)\n",
    "image_name = []\n",
    "image_paths = []\n",
    "\n",
    "for imagename in train_imagenames:\n",
    "    image = imagename.split('.')[0]\n",
    "    image_path = os.path.join(train_dir, imagename)\n",
    "    image_paths.append(image_path)\n",
    "    image_name.append(image)\n",
    "    \n",
    "image_df = pd.DataFrame()\n",
    "\n",
    "image_df[\"image_path\"] = image_paths\n",
    "image_df[\"image_name\"] = image_name"
   ]
  },
  {
   "cell_type": "code",
   "execution_count": 4,
   "metadata": {},
   "outputs": [
    {
     "data": {
      "text/html": [
       "<div>\n",
       "<style scoped>\n",
       "    .dataframe tbody tr th:only-of-type {\n",
       "        vertical-align: middle;\n",
       "    }\n",
       "\n",
       "    .dataframe tbody tr th {\n",
       "        vertical-align: top;\n",
       "    }\n",
       "\n",
       "    .dataframe thead th {\n",
       "        text-align: right;\n",
       "    }\n",
       "</style>\n",
       "<table border=\"1\" class=\"dataframe\">\n",
       "  <thead>\n",
       "    <tr style=\"text-align: right;\">\n",
       "      <th></th>\n",
       "      <th>image_path</th>\n",
       "      <th>image_name</th>\n",
       "    </tr>\n",
       "  </thead>\n",
       "  <tbody>\n",
       "    <tr>\n",
       "      <td>0</td>\n",
       "      <td>./data/train/cat.1974.jpg</td>\n",
       "      <td>cat</td>\n",
       "    </tr>\n",
       "    <tr>\n",
       "      <td>1</td>\n",
       "      <td>./data/train/dog.8461.jpg</td>\n",
       "      <td>dog</td>\n",
       "    </tr>\n",
       "    <tr>\n",
       "      <td>2</td>\n",
       "      <td>./data/train/cat.10441.jpg</td>\n",
       "      <td>cat</td>\n",
       "    </tr>\n",
       "    <tr>\n",
       "      <td>3</td>\n",
       "      <td>./data/train/cat.3251.jpg</td>\n",
       "      <td>cat</td>\n",
       "    </tr>\n",
       "    <tr>\n",
       "      <td>4</td>\n",
       "      <td>./data/train/dog.1807.jpg</td>\n",
       "      <td>dog</td>\n",
       "    </tr>\n",
       "  </tbody>\n",
       "</table>\n",
       "</div>"
      ],
      "text/plain": [
       "                   image_path image_name\n",
       "0   ./data/train/cat.1974.jpg        cat\n",
       "1   ./data/train/dog.8461.jpg        dog\n",
       "2  ./data/train/cat.10441.jpg        cat\n",
       "3   ./data/train/cat.3251.jpg        cat\n",
       "4   ./data/train/dog.1807.jpg        dog"
      ]
     },
     "execution_count": 4,
     "metadata": {},
     "output_type": "execute_result"
    }
   ],
   "source": [
    "image_df.head()"
   ]
  },
  {
   "cell_type": "code",
   "execution_count": 5,
   "metadata": {},
   "outputs": [
    {
     "data": {
      "text/plain": [
       "cat    12500\n",
       "dog    12500\n",
       "Name: image_name, dtype: int64"
      ]
     },
     "execution_count": 5,
     "metadata": {},
     "output_type": "execute_result"
    }
   ],
   "source": [
    "image_df[\"image_name\"].value_counts()"
   ]
  },
  {
   "cell_type": "markdown",
   "metadata": {},
   "source": [
    "### Checking GPUs"
   ]
  },
  {
   "cell_type": "code",
   "execution_count": 6,
   "metadata": {},
   "outputs": [],
   "source": [
    "tf.debugging.set_log_device_placement(True)"
   ]
  },
  {
   "cell_type": "code",
   "execution_count": 7,
   "metadata": {},
   "outputs": [
    {
     "data": {
      "text/plain": [
       "[PhysicalDevice(name='/physical_device:GPU:0', device_type='GPU')]"
      ]
     },
     "execution_count": 7,
     "metadata": {},
     "output_type": "execute_result"
    }
   ],
   "source": [
    "gpus = tf.config.experimental.list_physical_devices('GPU')\n",
    "gpus"
   ]
  },
  {
   "cell_type": "markdown",
   "metadata": {},
   "source": [
    "## Neural Net Architecture"
   ]
  },
  {
   "cell_type": "markdown",
   "metadata": {},
   "source": [
    "### Custom CNN"
   ]
  },
  {
   "cell_type": "code",
   "execution_count": 8,
   "metadata": {},
   "outputs": [
    {
     "name": "stdout",
     "output_type": "stream",
     "text": [
      "WARNING:tensorflow:From /usr/local/lib/python3.5/dist-packages/tensorflow/python/ops/init_ops.py:1251: calling VarianceScaling.__init__ (from tensorflow.python.ops.init_ops) with dtype is deprecated and will be removed in a future version.\n",
      "Instructions for updating:\n",
      "Call initializer instance with the dtype argument instead of passing it to the constructor\n",
      "Model: \"sequential\"\n",
      "_________________________________________________________________\n",
      "Layer (type)                 Output Shape              Param #   \n",
      "=================================================================\n",
      "conv2d (Conv2D)              (None, 148, 148, 32)      896       \n",
      "_________________________________________________________________\n",
      "max_pooling2d (MaxPooling2D) (None, 74, 74, 32)        0         \n",
      "_________________________________________________________________\n",
      "conv2d_1 (Conv2D)            (None, 72, 72, 64)        18496     \n",
      "_________________________________________________________________\n",
      "max_pooling2d_1 (MaxPooling2 (None, 36, 36, 64)        0         \n",
      "_________________________________________________________________\n",
      "conv2d_2 (Conv2D)            (None, 34, 34, 128)       73856     \n",
      "_________________________________________________________________\n",
      "max_pooling2d_2 (MaxPooling2 (None, 17, 17, 128)       0         \n",
      "_________________________________________________________________\n",
      "conv2d_3 (Conv2D)            (None, 15, 15, 128)       147584    \n",
      "_________________________________________________________________\n",
      "max_pooling2d_3 (MaxPooling2 (None, 7, 7, 128)         0         \n",
      "_________________________________________________________________\n",
      "conv2d_4 (Conv2D)            (None, 5, 5, 128)         147584    \n",
      "_________________________________________________________________\n",
      "max_pooling2d_4 (MaxPooling2 (None, 2, 2, 128)         0         \n",
      "_________________________________________________________________\n",
      "flatten (Flatten)            (None, 512)               0         \n",
      "_________________________________________________________________\n",
      "dropout (Dropout)            (None, 512)               0         \n",
      "_________________________________________________________________\n",
      "dense (Dense)                (None, 512)               262656    \n",
      "_________________________________________________________________\n",
      "dense_1 (Dense)              (None, 1)                 513       \n",
      "=================================================================\n",
      "Total params: 651,585\n",
      "Trainable params: 651,585\n",
      "Non-trainable params: 0\n",
      "_________________________________________________________________\n",
      "WARNING:tensorflow:From /usr/local/lib/python3.5/dist-packages/tensorflow/python/ops/nn_impl.py:180: add_dispatch_support.<locals>.wrapper (from tensorflow.python.ops.array_ops) is deprecated and will be removed in a future version.\n",
      "Instructions for updating:\n",
      "Use tf.where in 2.0, which has the same broadcast rule as np.where\n"
     ]
    }
   ],
   "source": [
    "with tf.device('GPU:1'):\n",
    "    model = tf.keras.models.Sequential([\n",
    "        tf.keras.layers.Conv2D(32, (3,3), activation='relu', input_shape=(150, 150, 3)),\n",
    "        tf.keras.layers.MaxPooling2D(2, 2),\n",
    "\n",
    "        tf.keras.layers.Conv2D(64, (3,3), activation='relu'),\n",
    "        tf.keras.layers.MaxPooling2D(2,2),\n",
    "\n",
    "        tf.keras.layers.Conv2D(128, (3,3), activation='relu'),\n",
    "        tf.keras.layers.MaxPooling2D(2,2),\n",
    "\n",
    "        tf.keras.layers.Conv2D(128, (3,3), activation='relu'),\n",
    "        tf.keras.layers.MaxPooling2D(2,2),\n",
    "\n",
    "        tf.keras.layers.Conv2D(128, (3,3), activation='relu'),\n",
    "        tf.keras.layers.MaxPooling2D(2,2),\n",
    "\n",
    "        tf.keras.layers.Flatten(),\n",
    "        tf.keras.layers.Dropout(0.5),\n",
    "        tf.keras.layers.Dense(512, activation='relu'),\n",
    "        tf.keras.layers.Dense(1, activation='sigmoid')\n",
    "    ])\n",
    "    model.summary()\n",
    "    \n",
    "    model.compile(loss = \"binary_crossentropy\", optimizer = RMSprop(lr=1e-4), metrics = [\"acc\"])"
   ]
  },
  {
   "cell_type": "markdown",
   "metadata": {},
   "source": [
    "### Train/Validation Split\n",
    "\n",
    " - 80% Train\n",
    " - 20% Validation"
   ]
  },
  {
   "cell_type": "code",
   "execution_count": 9,
   "metadata": {},
   "outputs": [],
   "source": [
    "train, validation = train_test_split(image_df,test_size=0.2, random_state=42) "
   ]
  },
  {
   "cell_type": "code",
   "execution_count": 10,
   "metadata": {},
   "outputs": [
    {
     "name": "stdout",
     "output_type": "stream",
     "text": [
      "Found 20000 validated image filenames belonging to 2 classes.\n",
      "Found 5000 validated image filenames belonging to 2 classes.\n"
     ]
    }
   ],
   "source": [
    "train_datagen = ImageDataGenerator(rescale = 1./255, rotation_range = 40, width_shift_range = 0.2,\n",
    "                                   height_shift_range = 0.2, shear_range = 0.2, zoom_range = 0.2, horizontal_flip = True)\n",
    "validation_datagen = ImageDataGenerator(rescale = 1./255)\n",
    "\n",
    "train_generator = train_datagen.flow_from_dataframe(train, x_col = \"image_path\", y_col = \"image_name\", target_size = (150, 150), batch_size = 128, class_mode = \"binary\")\n",
    "validation_generator = validation_datagen.flow_from_dataframe(validation, x_col = \"image_path\", y_col = \"image_name\", target_size = (150, 150), batch_size = 128, class_mode = \"binary\")\n"
   ]
  },
  {
   "cell_type": "markdown",
   "metadata": {},
   "source": [
    "## Training\n",
    "\n",
    " -  40 Epochs\n",
    " -  80 Steps per Epoch\n",
    " - 200 Validation Steps"
   ]
  },
  {
   "cell_type": "code",
   "execution_count": 11,
   "metadata": {},
   "outputs": [
    {
     "name": "stdout",
     "output_type": "stream",
     "text": [
      "Epoch 1/40\n",
      "80/80 [==============================] - 126s 2s/step - loss: 0.6909 - acc: 0.5251 - val_loss: 0.6836 - val_acc: 0.5778\n",
      "Epoch 2/40\n",
      "80/80 [==============================] - 121s 2s/step - loss: 0.6807 - acc: 0.5625 - val_loss: 0.6951 - val_acc: 0.5216\n",
      "Epoch 3/40\n",
      "80/80 [==============================] - 120s 2s/step - loss: 0.6668 - acc: 0.5988 - val_loss: 0.6544 - val_acc: 0.6136\n",
      "Epoch 4/40\n",
      "80/80 [==============================] - 121s 2s/step - loss: 0.6612 - acc: 0.6061 - val_loss: 0.6853 - val_acc: 0.5714\n",
      "Epoch 5/40\n",
      "80/80 [==============================] - 120s 2s/step - loss: 0.6546 - acc: 0.6118 - val_loss: 0.6680 - val_acc: 0.5910\n",
      "Epoch 6/40\n",
      "80/80 [==============================] - 120s 2s/step - loss: 0.6483 - acc: 0.6247 - val_loss: 0.7102 - val_acc: 0.5482\n",
      "Epoch 7/40\n",
      "80/80 [==============================] - 120s 2s/step - loss: 0.6413 - acc: 0.6311 - val_loss: 0.6266 - val_acc: 0.6518\n",
      "Epoch 8/40\n",
      "80/80 [==============================] - 121s 2s/step - loss: 0.6323 - acc: 0.6441 - val_loss: 0.6323 - val_acc: 0.6332\n",
      "Epoch 9/40\n",
      "80/80 [==============================] - 120s 1s/step - loss: 0.6337 - acc: 0.6422 - val_loss: 0.6079 - val_acc: 0.6714\n",
      "Epoch 10/40\n",
      "80/80 [==============================] - 125s 2s/step - loss: 0.6179 - acc: 0.6581 - val_loss: 0.6168 - val_acc: 0.6432\n",
      "Epoch 11/40\n",
      "80/80 [==============================] - 127s 2s/step - loss: 0.6128 - acc: 0.6656 - val_loss: 0.5867 - val_acc: 0.6898\n",
      "Epoch 12/40\n",
      "80/80 [==============================] - 126s 2s/step - loss: 0.6043 - acc: 0.6695 - val_loss: 0.5776 - val_acc: 0.7064\n",
      "Epoch 13/40\n",
      "80/80 [==============================] - 127s 2s/step - loss: 0.5997 - acc: 0.6775 - val_loss: 0.5766 - val_acc: 0.6936\n",
      "Epoch 14/40\n",
      "80/80 [==============================] - 130s 2s/step - loss: 0.5927 - acc: 0.6815 - val_loss: 0.5474 - val_acc: 0.7362\n",
      "Epoch 15/40\n",
      "80/80 [==============================] - 128s 2s/step - loss: 0.5860 - acc: 0.6901 - val_loss: 0.5690 - val_acc: 0.7030\n",
      "Epoch 16/40\n",
      "80/80 [==============================] - 125s 2s/step - loss: 0.5812 - acc: 0.6912 - val_loss: 0.5413 - val_acc: 0.7364\n",
      "Epoch 17/40\n",
      "80/80 [==============================] - 124s 2s/step - loss: 0.5787 - acc: 0.6990 - val_loss: 0.5373 - val_acc: 0.7266\n",
      "Epoch 18/40\n",
      "80/80 [==============================] - 123s 2s/step - loss: 0.5672 - acc: 0.7054 - val_loss: 0.5409 - val_acc: 0.7264\n",
      "Epoch 19/40\n",
      "80/80 [==============================] - 123s 2s/step - loss: 0.5616 - acc: 0.7121 - val_loss: 0.5634 - val_acc: 0.7068\n",
      "Epoch 20/40\n",
      "80/80 [==============================] - 119s 1s/step - loss: 0.5600 - acc: 0.7129 - val_loss: 0.4983 - val_acc: 0.7654\n",
      "Epoch 21/40\n",
      "80/80 [==============================] - 120s 2s/step - loss: 0.5524 - acc: 0.7158 - val_loss: 0.5019 - val_acc: 0.7626\n",
      "Epoch 22/40\n",
      "80/80 [==============================] - 120s 1s/step - loss: 0.5516 - acc: 0.7221 - val_loss: 0.6035 - val_acc: 0.6828\n",
      "Epoch 23/40\n",
      "80/80 [==============================] - 121s 2s/step - loss: 0.5426 - acc: 0.7275 - val_loss: 0.5501 - val_acc: 0.7186\n",
      "Epoch 24/40\n",
      "80/80 [==============================] - 121s 2s/step - loss: 0.5410 - acc: 0.7271 - val_loss: 0.5274 - val_acc: 0.7314\n",
      "Epoch 25/40\n",
      "80/80 [==============================] - 120s 2s/step - loss: 0.5325 - acc: 0.7361 - val_loss: 0.5208 - val_acc: 0.7350\n",
      "Epoch 26/40\n",
      "80/80 [==============================] - 121s 2s/step - loss: 0.5324 - acc: 0.7307 - val_loss: 0.4681 - val_acc: 0.7790\n",
      "Epoch 27/40\n",
      "80/80 [==============================] - 119s 1s/step - loss: 0.5259 - acc: 0.7382 - val_loss: 0.4783 - val_acc: 0.7712\n",
      "Epoch 28/40\n",
      "80/80 [==============================] - 119s 1s/step - loss: 0.5260 - acc: 0.7414 - val_loss: 0.4638 - val_acc: 0.7808\n",
      "Epoch 29/40\n",
      "80/80 [==============================] - 120s 1s/step - loss: 0.5237 - acc: 0.7383 - val_loss: 0.4544 - val_acc: 0.7884\n",
      "Epoch 30/40\n",
      "80/80 [==============================] - 119s 1s/step - loss: 0.5084 - acc: 0.7480 - val_loss: 0.4704 - val_acc: 0.7794\n",
      "Epoch 31/40\n",
      "80/80 [==============================] - 120s 1s/step - loss: 0.5156 - acc: 0.7446 - val_loss: 0.4434 - val_acc: 0.7934\n",
      "Epoch 32/40\n",
      "80/80 [==============================] - 119s 1s/step - loss: 0.5064 - acc: 0.7533 - val_loss: 0.4769 - val_acc: 0.7734\n",
      "Epoch 33/40\n",
      "80/80 [==============================] - 120s 1s/step - loss: 0.5029 - acc: 0.7539 - val_loss: 0.4615 - val_acc: 0.7864\n",
      "Epoch 34/40\n",
      "80/80 [==============================] - 120s 2s/step - loss: 0.5001 - acc: 0.7521 - val_loss: 0.4460 - val_acc: 0.7896\n",
      "Epoch 35/40\n",
      "80/80 [==============================] - 121s 2s/step - loss: 0.5053 - acc: 0.7497 - val_loss: 0.4524 - val_acc: 0.7876\n",
      "Epoch 36/40\n",
      "80/80 [==============================] - 120s 1s/step - loss: 0.4824 - acc: 0.7679 - val_loss: 0.4352 - val_acc: 0.7998\n",
      "Epoch 37/40\n",
      "80/80 [==============================] - 120s 2s/step - loss: 0.4989 - acc: 0.7579 - val_loss: 0.4303 - val_acc: 0.7982\n",
      "Epoch 38/40\n",
      "80/80 [==============================] - 119s 1s/step - loss: 0.4952 - acc: 0.7577 - val_loss: 0.4499 - val_acc: 0.7864\n",
      "Epoch 39/40\n",
      "80/80 [==============================] - 120s 1s/step - loss: 0.4801 - acc: 0.7653 - val_loss: 0.5065 - val_acc: 0.7550\n",
      "Epoch 40/40\n",
      "80/80 [==============================] - 119s 1s/step - loss: 0.4813 - acc: 0.7700 - val_loss: 0.4229 - val_acc: 0.8034\n"
     ]
    }
   ],
   "source": [
    "history = model.fit_generator(train_generator,\n",
    "                             steps_per_epoch = 80, epochs = 40, validation_data = validation_generator, validation_steps = 200)"
   ]
  },
  {
   "cell_type": "markdown",
   "metadata": {},
   "source": [
    "### Metrics\n",
    "\n",
    " - Loss & Accuracy ...\n",
    " - ... on Training set ...\n",
    " - ... and on Validation set (to catch eventual overfitting)"
   ]
  },
  {
   "cell_type": "code",
   "execution_count": 12,
   "metadata": {},
   "outputs": [
    {
     "data": {
      "text/plain": [
       "<Figure size 432x288 with 0 Axes>"
      ]
     },
     "execution_count": 12,
     "metadata": {},
     "output_type": "execute_result"
    },
    {
     "data": {
      "image/png": "[encoded data removed]",
      "text/plain": [
       "<Figure size 432x288 with 1 Axes>"
      ]
     },
     "metadata": {
      "needs_background": "light"
     },
     "output_type": "display_data"
    },
    {
     "data": {
      "text/plain": [
       "<Figure size 432x288 with 0 Axes>"
      ]
     },
     "metadata": {},
     "output_type": "display_data"
    }
   ],
   "source": [
    "acc = history.history[\"acc\"]\n",
    "val_acc = history.history[\"val_acc\"]\n",
    "loss = history.history[\"loss\"]\n",
    "val_loss = history.history[\"val_loss\"]\n",
    "\n",
    "epochs = range(1, len(acc) + 1)\n",
    "\n",
    "plt.plot(epochs, acc, \"bo\", label = \"Training acc\")\n",
    "plt.plot(epochs, val_acc, \"b\", label = \"Validation acc\")\n",
    "plt.title(\"Training and Validation accuracy\")\n",
    "plt.legend()\n",
    "plt.figure()"
   ]
  },
  {
   "cell_type": "code",
   "execution_count": 13,
   "metadata": {},
   "outputs": [
    {
     "data": {
      "image/png": "[encoded data removed]",
      "text/plain": [
       "<Figure size 432x288 with 1 Axes>"
      ]
     },
     "metadata": {
      "needs_background": "light"
     },
     "output_type": "display_data"
    }
   ],
   "source": [
    "plt.plot(epochs, loss, \"bo\", label = \"Training loss\")\n",
    "plt.plot(epochs, val_loss, \"b\", label = \"Validation loss\")\n",
    "plt.title(\"Training and Validation loss\")\n",
    "plt.legend()\n",
    "plt.show()"
   ]
  }
 ],
 "metadata": {
  "kernelspec": {
   "display_name": "Python 3",
   "language": "python",
   "name": "python3"
  },
  "language_info": {
   "codemirror_mode": {
    "name": "ipython",
    "version": 3
   },
   "file_extension": ".py",
   "mimetype": "text/x-python",
   "name": "python",
   "nbconvert_exporter": "python",
   "pygments_lexer": "ipython3",
   "version": "3.5.3"
  }
 },
 "nbformat": 4,
 "nbformat_minor": 4
}
